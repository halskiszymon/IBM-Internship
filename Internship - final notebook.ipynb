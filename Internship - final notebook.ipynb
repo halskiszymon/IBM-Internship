{
 "cells": [
  {
   "cell_type": "markdown",
   "metadata": {
    "slideshow": {
     "slide_type": "slide"
    }
   },
   "source": [
    "![image](https://github.com/IBM/watson-machine-learning-samples/raw/master/cloud/notebooks/headers/AutoAI-Banner_Experiment-Notebook.png)\n",
    "<div align=\"center\">\n",
    "    <h1>Our journey of learning AutoAI</h1>\n",
    "    <h2 style=\"margin-top: 3px;\">Python and other technologies</h2>\n",
    "</div>\n",
    "\n",
    "<div align=\"right\">\n",
    "   by Julka & Szymon\n",
    "</div>\n",
    "\n",
    "## Welcome in our final Internship product - Jupyter notebook."
   ]
  },
  {
   "cell_type": "markdown",
   "metadata": {
    "slideshow": {
     "slide_type": "subslide"
    }
   },
   "source": [
    "<div align=\"center\">\n",
    "    <h2>About our project</h2>\n",
    "</div>\n",
    "\n",
    "We are dealing with AI for the first time. When we saw Watson Studio and AutoAI experiment we were overwhelmed and we didn't know we could manage it.\n",
    "\n",
    "**Our task was to improve machine learning algorithm that can predict loan issuance risk.**"
   ]
  },
  {
   "cell_type": "markdown",
   "metadata": {
    "slideshow": {
     "slide_type": "slide"
    }
   },
   "source": [
    "<div align=\"center\">\n",
    "    <h2>First steps</h2>\n",
    "</div>\n",
    "\n",
    "#### In the first week our Internship we've been learning some knowledge about ai.\n",
    "\n",
    "![image](https://github.com/halskiszymon/IBM-Internship/blob/main/img/5572e8_1_christie_ai_hso-com.jpg?raw=true)\n",
    "\n",
    "AI is a set of self improving algorithms. We feed our models with data and we watch magic happen. \n",
    "AI is used in medicine, healthcare, self-driving cars, robots, assistants etc."
   ]
  },
  {
   "cell_type": "markdown",
   "metadata": {
    "slideshow": {
     "slide_type": "subslide"
    }
   },
   "source": [
    "We had to learn Watson Studio. To start we needed to add a couple services to our project like data space, Watson Studio etc.\n",
    "\n",
    "![image](https://github.com/halskiszymon/IBM-Internship/blob/main/img/services.JPG?raw=true)\n"
   ]
  },
  {
   "cell_type": "markdown",
   "metadata": {
    "slideshow": {
     "slide_type": "subslide"
    }
   },
   "source": [
    "We created project in IBM DataCloud and started to get to know AutoAI.\n",
    "\n",
    "![image](https://github.com/halskiszymon/IBM-Internship/blob/main/img/projects.JPG?raw=true)"
   ]
  },
  {
   "cell_type": "markdown",
   "metadata": {
    "slideshow": {
     "slide_type": "subslide"
    }
   },
   "source": [
    "Next, we added dataset to project assets and AutoAI experiment.\n",
    "\n",
    "![image](https://github.com/halskiszymon/IBM-Internship/blob/main/img/project.JPG?raw=true)"
   ]
  },
  {
   "cell_type": "markdown",
   "metadata": {
    "slideshow": {
     "slide_type": "subslide"
    }
   },
   "source": [
    "![image](https://github.com/halskiszymon/IBM-Internship/blob/main/img/relationship_map.JPG?raw=true)\n",
    "\n",
    "<div align=\"center\">\n",
    "    AutoAI relationship map.\n",
    "</div>"
   ]
  },
  {
   "cell_type": "markdown",
   "metadata": {
    "slideshow": {
     "slide_type": "subslide"
    }
   },
   "source": [
    "![image](https://github.com/halskiszymon/IBM-Internship/blob/main/img/progress.JPG?raw=true)\n",
    "\n",
    "<div align=\"center\">\n",
    "    AutoAI model progress map.\n",
    "</div>"
   ]
  },
  {
   "cell_type": "markdown",
   "metadata": {
    "slideshow": {
     "slide_type": "subslide"
    }
   },
   "source": [
    "![image](https://github.com/halskiszymon/IBM-Internship/blob/main/img/pipelines.JPG?raw=true)\n",
    "\n",
    "<div align=\"center\">\n",
    "    AutoAI generated pipelines.\n",
    "</div>"
   ]
  },
  {
   "cell_type": "markdown",
   "metadata": {
    "slideshow": {
     "slide_type": "slide"
    }
   },
   "source": [
    "<div align=\"center\">\n",
    "    <h2>Next steps</h2>\n",
    "</div>\n",
    "\n",
    "After a bit of AI learning, we saved the best pipeline as a Jupyter Notebook."
   ]
  },
  {
   "cell_type": "markdown",
   "metadata": {
    "slideshow": {
     "slide_type": "slide"
    }
   },
   "source": [
    "![image](https://github.com/IBM/watson-machine-learning-samples/raw/master/cloud/notebooks/headers/AutoAI-Banner_Pipeline-Notebook.png)\n",
    "# Notebook for Internship - AutoAI Notebook v1.15.0\n",
    "\n",
    "Consider these tips for working with an auto-generated notebook:\n",
    "- Notebook code generated using AutoAI will execute successfully. If you modify the notebook, we cannot guarantee it will run successfully.\n",
    "- This pipeline is optimized for the original data set. The pipeline might fail or produce sub-optimum results if used with different data.  If you want to use a different data set, consider retraining the AutoAI experiment to generate a new pipeline. For more information, see <a href=\"https://dataplatform.cloud.ibm.com/docs/content/wsj/analyze-data/autoai-notebook.html\">Cloud Platform</a> \n",
    "- Before modifying the pipeline or trying to re-fit the pipeline, consider that the code converts dataframes to numpy arrays before fitting the pipeline (a current restriction of the preprocessor pipeline).\n"
   ]
  },
  {
   "cell_type": "markdown",
   "metadata": {
    "slideshow": {
     "slide_type": "skip"
    }
   },
   "source": [
    "<a id=\"content\"></a>\n",
    "## Notebook content\n",
    "\n",
    "This notebook contains a Scikit-learn representation of AutoAI pipeline. This notebook introduces commands for getting data, training the model, and testing the model. \n",
    "\n",
    "Some familiarity with Python is helpful. This notebook uses Python 3.7 and scikit-learn 0.23.2."
   ]
  },
  {
   "cell_type": "markdown",
   "metadata": {
    "pycharm": {
     "name": "#%% md\n"
    },
    "slideshow": {
     "slide_type": "skip"
    }
   },
   "source": [
    "## Notebook goals\n",
    "\n",
    "-  Scikit-learn pipeline definition\n",
    "-  Pipeline training \n",
    "-  Pipeline evaluation\n",
    "\n",
    "## Contents\n",
    "\n",
    "This notebook contains the following parts:\n",
    "\n",
    "**[Setup](#setup)**<br>\n",
    "&nbsp;&nbsp;[Package installation](#install)<br>\n",
    "&nbsp;&nbsp;[AutoAI experiment metadata](#variables_definition)<br>\n",
    "**[Pipeline inspection](#inspection)** <br>\n",
    "&nbsp;&nbsp;[Read training data](#read)<br>\n",
    "&nbsp;&nbsp;[Train and test data split](#split)<br>\n",
    "&nbsp;&nbsp;[Make pipeline](#preview_model_to_python_code)<br>\n",
    "&nbsp;&nbsp;[Train pipeline model](#train)<br>\n",
    "&nbsp;&nbsp;[Test pipeline model](#test_model)<br>\n",
    "**[Next steps](#next_steps)**<br>\n",
    "**[Copyrights](#copyrights)**"
   ]
  },
  {
   "cell_type": "markdown",
   "metadata": {
    "slideshow": {
     "slide_type": "skip"
    }
   },
   "source": [
    "<a id=\"setup\"></a>\n",
    "# Setup"
   ]
  },
  {
   "cell_type": "markdown",
   "metadata": {
    "slideshow": {
     "slide_type": "subslide"
    }
   },
   "source": [
    "<a id=\"install\"></a>\n",
    "## Package installation\n",
    "Before you use the sample code in this notebook, install the following packages:\n",
    " - ibm_watson_machine_learning,\n",
    " - autoai-libs,\n",
    " - scikit-learn,\n",
    " - xgboost.\n"
   ]
  },
  {
   "cell_type": "code",
   "execution_count": null,
   "metadata": {
    "execution": {
     "iopub.execute_input": "2020-10-12T14:00:45.009458Z",
     "iopub.status.busy": "2020-10-12T14:00:45.007968Z",
     "iopub.status.idle": "2020-10-12T14:00:46.037702Z",
     "shell.execute_reply": "2020-10-12T14:00:46.038270Z"
    },
    "pycharm": {
     "name": "#%%\n"
    },
    "scrolled": false,
    "slideshow": {
     "slide_type": "fragment"
    }
   },
   "outputs": [],
   "source": [
    "!pip install ibm-watson-machine-learning\n",
    "!pip install -U autoai-libs==1.12.6\n",
    "!pip install -U scikit-learn==0.23.2\n",
    "!pip install -U xgboost==1.3.3\n",
    "!pip install -U plotly"
   ]
  },
  {
   "cell_type": "markdown",
   "metadata": {
    "slideshow": {
     "slide_type": "skip"
    }
   },
   "source": [
    "<a id=\"variables_definition\"></a>\n",
    "## AutoAI experiment metadata\n",
    "The following cell contains the training data connection details.  \n",
    "**Note**: The connection might contain authorization credentials, so be careful when sharing the notebook."
   ]
  },
  {
   "cell_type": "code",
   "execution_count": 129,
   "metadata": {
    "execution": {
     "iopub.execute_input": "2020-10-12T14:00:49.797633Z",
     "iopub.status.busy": "2020-10-12T14:00:49.796778Z",
     "iopub.status.idle": "2020-10-12T14:00:57.182715Z",
     "shell.execute_reply": "2020-10-12T14:00:57.183132Z"
    },
    "pycharm": {
     "is_executing": true
    },
    "slideshow": {
     "slide_type": "skip"
    }
   },
   "outputs": [],
   "source": [
    "#@hidden_cell\n",
    "from ibm_watson_machine_learning.helpers import DataConnection\n",
    "from ibm_watson_machine_learning.helpers import S3Connection, S3Location\n",
    "\n",
    "training_data_reference = [DataConnection(\n",
    "    connection=S3Connection(\n",
    "        api_key='PZeV9yeiXNsxL0cIhsuERsaqjUwryg4m_UkT0ZbHttXw',\n",
    "        auth_endpoint='https://iam.bluemix.net/oidc/token/',\n",
    "        endpoint_url='https://s3-api.us-geo.objectstorage.softlayer.net'\n",
    "    ),\n",
    "        location=S3Location(\n",
    "        bucket='internshiptest-donotdelete-pr-lbx9gwuhgc1cis',\n",
    "        path='credit_risk_training.csv'\n",
    "    )),\n",
    "]\n",
    "training_result_reference = DataConnection(\n",
    "    connection=S3Connection(\n",
    "        api_key='PZeV9yeiXNsxL0cIhsuERsaqjUwryg4m_UkT0ZbHttXw',\n",
    "        auth_endpoint='https://iam.bluemix.net/oidc/token/',\n",
    "        endpoint_url='https://s3-api.us-geo.objectstorage.softlayer.net'\n",
    "    ),\n",
    "    location=S3Location(\n",
    "        bucket='internshiptest-donotdelete-pr-lbx9gwuhgc1cis',\n",
    "        path='auto_ml/2d1ad8db-0082-4482-afb3-513c7992d64d/wml_data/2493a106-a7b0-4878-9b3d-db5924f77c74/data/automl',\n",
    "        model_location='auto_ml/2d1ad8db-0082-4482-afb3-513c7992d64d/wml_data/2493a106-a7b0-4878-9b3d-db5924f77c74/data/automl/hpo_c_output/Pipeline1/model.pickle',\n",
    "        training_status='auto_ml/2d1ad8db-0082-4482-afb3-513c7992d64d/wml_data/2493a106-a7b0-4878-9b3d-db5924f77c74/training-status.json'\n",
    "    ))"
   ]
  },
  {
   "cell_type": "markdown",
   "metadata": {
    "slideshow": {
     "slide_type": "skip"
    }
   },
   "source": [
    "Following cell contains input parameters provided to run the AutoAI experiment in Watson Studio."
   ]
  },
  {
   "cell_type": "code",
   "execution_count": 130,
   "metadata": {
    "execution": {
     "iopub.execute_input": "2020-10-12T14:00:57.187305Z",
     "iopub.status.busy": "2020-10-12T14:00:57.186602Z",
     "iopub.status.idle": "2020-10-12T14:00:57.188392Z",
     "shell.execute_reply": "2020-10-12T14:00:57.188878Z"
    },
    "pycharm": {
     "name": "#%%\n"
    },
    "slideshow": {
     "slide_type": "subslide"
    }
   },
   "outputs": [],
   "source": [
    "experiment_metadata = dict(\n",
    "   prediction_type='classification',\n",
    "   prediction_column='Risk',\n",
    "   holdout_size=0.1,\n",
    "   scoring='accuracy',\n",
    "   deployment_url='https://us-south.ml.cloud.ibm.com',\n",
    "   csv_separator=',',\n",
    "   random_state=33,\n",
    "   max_number_of_estimators=2,\n",
    "   training_data_reference=training_data_reference,\n",
    "   training_result_reference=training_result_reference,\n",
    "   project_id='1560bdad-b82c-4f14-b062-016783069295',\n",
    "   positive_label='No Risk',\n",
    "   drop_duplicates=True\n",
    ")"
   ]
  },
  {
   "cell_type": "markdown",
   "metadata": {
    "slideshow": {
     "slide_type": "skip"
    }
   },
   "source": [
    "<a id=\"inspection\"></a>\n",
    "# Pipeline inspection"
   ]
  },
  {
   "cell_type": "markdown",
   "metadata": {
    "pycharm": {
     "name": "#%% md\n"
    },
    "slideshow": {
     "slide_type": "subslide"
    }
   },
   "source": [
    "<a id=\"read\"></a>\n",
    "## Read training data\n",
    "\n",
    "Retrieve training dataset from AutoAI experiment as pandas DataFrame."
   ]
  },
  {
   "cell_type": "code",
   "execution_count": 131,
   "metadata": {
    "execution": {
     "iopub.execute_input": "2020-10-12T14:01:16.076169Z",
     "iopub.status.busy": "2020-10-12T14:01:16.075589Z",
     "iopub.status.idle": "2020-10-12T14:01:19.190233Z",
     "shell.execute_reply": "2020-10-12T14:01:19.190807Z"
    },
    "pycharm": {
     "is_executing": true,
     "name": "#%%\n"
    },
    "slideshow": {
     "slide_type": "fragment"
    }
   },
   "outputs": [],
   "source": [
    "df = training_data_reference[0].read(csv_separator=experiment_metadata['csv_separator'])\n",
    "df.dropna('rows', how='any', subset=[experiment_metadata['prediction_column']], inplace=True)"
   ]
  },
  {
   "cell_type": "markdown",
   "metadata": {
    "slideshow": {
     "slide_type": "subslide"
    }
   },
   "source": [
    "<a id=\"split\"></a>\n",
    "##  Train and test data split"
   ]
  },
  {
   "cell_type": "code",
   "execution_count": 132,
   "metadata": {
    "pycharm": {
     "is_executing": true
    },
    "slideshow": {
     "slide_type": "fragment"
    }
   },
   "outputs": [],
   "source": [
    "from sklearn.model_selection import train_test_split\n",
    "\n",
    "df.drop_duplicates(inplace=True)\n",
    "X = df.drop([experiment_metadata['prediction_column']], axis=1).values\n",
    "y = df[experiment_metadata['prediction_column']].values\n",
    "\n",
    "train_X, test_X, train_y, test_y = train_test_split(X, y, test_size=experiment_metadata['holdout_size'],\n",
    "                                                    stratify=y, random_state=experiment_metadata['random_state'])"
   ]
  },
  {
   "cell_type": "markdown",
   "metadata": {
    "pycharm": {
     "name": "#%% md\n"
    },
    "slideshow": {
     "slide_type": "skip"
    }
   },
   "source": [
    "<a id=\"preview_model_to_python_code\"></a>\n",
    "## Make pipeline\n",
    "In the next cell, you can find the Scikit-learn definition of the selected AutoAI pipeline."
   ]
  },
  {
   "cell_type": "markdown",
   "metadata": {
    "slideshow": {
     "slide_type": "skip"
    }
   },
   "source": [
    "Import statements."
   ]
  },
  {
   "cell_type": "code",
   "execution_count": 133,
   "metadata": {
    "pycharm": {
     "is_executing": true,
     "name": "#%%\n"
    },
    "slideshow": {
     "slide_type": "skip"
    }
   },
   "outputs": [],
   "source": [
    "from autoai_libs.transformers.exportable import NumpyColumnSelector\n",
    "from autoai_libs.transformers.exportable import CompressStrings\n",
    "from autoai_libs.transformers.exportable import NumpyReplaceMissingValues\n",
    "from autoai_libs.transformers.exportable import NumpyReplaceUnknownValues\n",
    "from autoai_libs.transformers.exportable import boolean2float\n",
    "from autoai_libs.transformers.exportable import CatImputer\n",
    "from autoai_libs.transformers.exportable import CatEncoder\n",
    "import numpy as np\n",
    "from autoai_libs.transformers.exportable import float32_transform\n",
    "from sklearn.pipeline import make_pipeline\n",
    "from autoai_libs.transformers.exportable import FloatStr2Float\n",
    "from autoai_libs.transformers.exportable import NumImputer\n",
    "from autoai_libs.transformers.exportable import OptStandardScaler\n",
    "from sklearn.pipeline import make_union\n",
    "from autoai_libs.transformers.exportable import NumpyPermuteArray\n",
    "from autoai_libs.cognito.transforms.transform_utils import TA2\n",
    "import autoai_libs.utils.fc_methods\n",
    "from autoai_libs.cognito.transforms.transform_utils import FS1\n",
    "from autoai_libs.cognito.transforms.transform_utils import TAM\n",
    "from sklearn.cluster import FeatureAgglomeration\n",
    "from xgboost import XGBClassifier\n",
    "\n",
    "import warnings\n",
    "warnings.filterwarnings('ignore')"
   ]
  },
  {
   "cell_type": "markdown",
   "metadata": {
    "slideshow": {
     "slide_type": "skip"
    }
   },
   "source": [
    "#### Pre-processing & Estimator."
   ]
  },
  {
   "cell_type": "code",
   "execution_count": 134,
   "metadata": {
    "pycharm": {
     "is_executing": true,
     "name": "#%%\n"
    },
    "slideshow": {
     "slide_type": "skip"
    }
   },
   "outputs": [],
   "source": [
    "numpy_column_selector_0 = NumpyColumnSelector(\n",
    "    columns=[\n",
    "        0, 1, 2, 3, 5, 6, 7, 8, 9, 10, 11, 12, 13, 14, 15, 16, 17, 18, 19,\n",
    "    ]\n",
    ")\n",
    "compress_strings = CompressStrings(\n",
    "    compress_type=\"hash\",\n",
    "    dtypes_list=[\n",
    "        \"char_str\", \"int_num\", \"char_str\", \"char_str\", \"char_str\", \"char_str\",\n",
    "        \"int_num\", \"char_str\", \"char_str\", \"int_num\", \"char_str\", \"int_num\",\n",
    "        \"char_str\", \"char_str\", \"int_num\", \"char_str\", \"int_num\", \"char_str\",\n",
    "        \"char_str\",\n",
    "    ],\n",
    "    missing_values_reference_list=[\"\", \"-\", \"?\", float(\"nan\")],\n",
    "    misslist_list=[\n",
    "        [], [], [], [], [], [], [], [], [], [], [], [], [], [], [], [], [],\n",
    "        [], [],\n",
    "    ],\n",
    ")\n",
    "numpy_replace_missing_values_0 = NumpyReplaceMissingValues(\n",
    "    missing_values=[], filling_values=float(\"nan\")\n",
    ")\n",
    "numpy_replace_unknown_values = NumpyReplaceUnknownValues(\n",
    "    filling_values=float(\"nan\"),\n",
    "    filling_values_list=[\n",
    "        float(\"nan\"), float(\"nan\"), float(\"nan\"), float(\"nan\"), float(\"nan\"),\n",
    "        float(\"nan\"), float(\"nan\"), float(\"nan\"), float(\"nan\"), float(\"nan\"),\n",
    "        float(\"nan\"), float(\"nan\"), float(\"nan\"), float(\"nan\"), float(\"nan\"),\n",
    "        float(\"nan\"), float(\"nan\"), float(\"nan\"), float(\"nan\"),\n",
    "    ],\n",
    "    missing_values_reference_list=[\"\", \"-\", \"?\", float(\"nan\")],\n",
    ")"
   ]
  },
  {
   "cell_type": "code",
   "execution_count": 135,
   "metadata": {
    "slideshow": {
     "slide_type": "skip"
    }
   },
   "outputs": [],
   "source": [
    "cat_imputer = CatImputer(\n",
    "    strategy=\"most_frequent\",\n",
    "    missing_values=float(\"nan\"),\n",
    "    sklearn_version_family=\"23\",\n",
    ")\n",
    "cat_encoder = CatEncoder(\n",
    "    encoding=\"ordinal\",\n",
    "    categories=\"auto\",\n",
    "    dtype=np.float64,\n",
    "    handle_unknown=\"error\",\n",
    "    sklearn_version_family=\"23\",\n",
    ")\n",
    "pipeline_0 = make_pipeline(\n",
    "    numpy_column_selector_0,\n",
    "    compress_strings,\n",
    "    numpy_replace_missing_values_0,\n",
    "    numpy_replace_unknown_values,\n",
    "    boolean2float(),\n",
    "    cat_imputer,\n",
    "    cat_encoder,\n",
    "    float32_transform(),\n",
    ")\n",
    "numpy_column_selector_1 = NumpyColumnSelector(columns=[4])\n",
    "float_str2_float = FloatStr2Float(\n",
    "    dtypes_list=[\"int_num\"], missing_values_reference_list=[]\n",
    ")"
   ]
  },
  {
   "cell_type": "code",
   "execution_count": 136,
   "metadata": {
    "slideshow": {
     "slide_type": "skip"
    }
   },
   "outputs": [],
   "source": [
    "numpy_replace_missing_values_1 = NumpyReplaceMissingValues(\n",
    "    missing_values=[], filling_values=float(\"nan\")\n",
    ")\n",
    "num_imputer = NumImputer(strategy=\"median\", missing_values=float(\"nan\"))\n",
    "opt_standard_scaler = OptStandardScaler(\n",
    "    num_scaler_copy=None,\n",
    "    num_scaler_with_mean=None,\n",
    "    num_scaler_with_std=None,\n",
    "    use_scaler_flag=False,\n",
    ")\n",
    "pipeline_1 = make_pipeline(\n",
    "    numpy_column_selector_1,\n",
    "    float_str2_float,\n",
    "    numpy_replace_missing_values_1,\n",
    "    num_imputer,\n",
    "    opt_standard_scaler,\n",
    "    float32_transform(),\n",
    ")\n",
    "union = make_union(pipeline_0, pipeline_1)\n",
    "numpy_permute_array = NumpyPermuteArray(\n",
    "    axis=0,\n",
    "    permutation_indices=[\n",
    "        0, 1, 2, 3, 5, 6, 7, 8, 9, 10, 11, 12, 13, 14, 15, 16, 17, 18, 19, 4,\n",
    "    ],\n",
    ")"
   ]
  },
  {
   "cell_type": "code",
   "execution_count": 137,
   "metadata": {
    "slideshow": {
     "slide_type": "skip"
    }
   },
   "outputs": [],
   "source": [
    "ta2 = TA2(\n",
    "    fun=np.multiply,\n",
    "    name=\"product\",\n",
    "    datatypes1=[\n",
    "        \"intc\", \"intp\", \"int_\", \"uint8\", \"uint16\", \"uint32\", \"uint64\", \"int8\",\n",
    "        \"int16\", \"int32\", \"int64\", \"short\", \"long\", \"longlong\", \"float16\",\n",
    "        \"float32\", \"float64\",\n",
    "    ],\n",
    "    feat_constraints1=[autoai_libs.utils.fc_methods.is_not_categorical],\n",
    "    datatypes2=[\n",
    "        \"intc\", \"intp\", \"int_\", \"uint8\", \"uint16\", \"uint32\", \"uint64\", \"int8\",\n",
    "        \"int16\", \"int32\", \"int64\", \"short\", \"long\", \"longlong\", \"float16\",\n",
    "        \"float32\", \"float64\",\n",
    "    ],\n",
    "    feat_constraints2=[autoai_libs.utils.fc_methods.is_not_categorical],\n",
    "    col_names=[\n",
    "        \"CheckingStatus\", \"LoanDuration\", \"CreditHistory\", \"LoanPurpose\",\n",
    "        \"LoanAmount\", \"ExistingSavings\", \"EmploymentDuration\",\n",
    "        \"InstallmentPercent\", \"Sex\", \"OthersOnLoan\",\n",
    "        \"CurrentResidenceDuration\", \"OwnsProperty\", \"Age\", \"InstallmentPlans\",\n",
    "        \"Housing\", \"ExistingCreditsCount\", \"Job\", \"Dependents\", \"Telephone\",\n",
    "        \"ForeignWorker\",\n",
    "    ],\n",
    "    col_dtypes=[\n",
    "        np.dtype(\"float32\"), np.dtype(\"float32\"), np.dtype(\"float32\"),\n",
    "        np.dtype(\"float32\"), np.dtype(\"float32\"), np.dtype(\"float32\"),\n",
    "        np.dtype(\"float32\"), np.dtype(\"float32\"), np.dtype(\"float32\"),\n",
    "        np.dtype(\"float32\"), np.dtype(\"float32\"), np.dtype(\"float32\"),\n",
    "        np.dtype(\"float32\"), np.dtype(\"float32\"), np.dtype(\"float32\"),\n",
    "        np.dtype(\"float32\"), np.dtype(\"float32\"), np.dtype(\"float32\"),\n",
    "        np.dtype(\"float32\"), np.dtype(\"float32\"),\n",
    "    ],\n",
    ")\n",
    "fs1_0 = FS1(\n",
    "    cols_ids_must_keep=range(0, 20),\n",
    "    additional_col_count_to_keep=20,\n",
    "    ptype=\"classification\",\n",
    ")"
   ]
  },
  {
   "cell_type": "code",
   "execution_count": 138,
   "metadata": {
    "slideshow": {
     "slide_type": "skip"
    }
   },
   "outputs": [],
   "source": [
    "tam = TAM(\n",
    "    tans_class=FeatureAgglomeration(),\n",
    "    name=\"featureagglomeration\",\n",
    "    col_names=[\n",
    "        \"CheckingStatus\", \"LoanDuration\", \"CreditHistory\", \"LoanPurpose\",\n",
    "        \"LoanAmount\", \"ExistingSavings\", \"EmploymentDuration\",\n",
    "        \"InstallmentPercent\", \"Sex\", \"OthersOnLoan\",\n",
    "        \"CurrentResidenceDuration\", \"OwnsProperty\", \"Age\", \"InstallmentPlans\",\n",
    "        \"Housing\", \"ExistingCreditsCount\", \"Job\", \"Dependents\", \"Telephone\",\n",
    "        \"ForeignWorker\", \"product(LoanDuration__LoanAmount)\",\n",
    "        \"product(LoanDuration__Age)\", \"product(LoanAmount__Age)\",\n",
    "    ],\n",
    "    col_dtypes=[\n",
    "        np.dtype(\"float32\"), np.dtype(\"float32\"), np.dtype(\"float32\"),\n",
    "        np.dtype(\"float32\"), np.dtype(\"float32\"), np.dtype(\"float32\"),\n",
    "        np.dtype(\"float32\"), np.dtype(\"float32\"), np.dtype(\"float32\"),\n",
    "        np.dtype(\"float32\"), np.dtype(\"float32\"), np.dtype(\"float32\"),\n",
    "        np.dtype(\"float32\"), np.dtype(\"float32\"), np.dtype(\"float32\"),\n",
    "        np.dtype(\"float32\"), np.dtype(\"float32\"), np.dtype(\"float32\"),\n",
    "        np.dtype(\"float32\"), np.dtype(\"float32\"), np.dtype(\"float32\"),\n",
    "        np.dtype(\"float32\"), np.dtype(\"float32\"),\n",
    "    ],\n",
    ")\n",
    "fs1_1 = FS1(\n",
    "    cols_ids_must_keep=range(0, 20),\n",
    "    additional_col_count_to_keep=20,\n",
    "    ptype=\"classification\",\n",
    ")"
   ]
  },
  {
   "cell_type": "code",
   "execution_count": 139,
   "metadata": {
    "slideshow": {
     "slide_type": "subslide"
    }
   },
   "outputs": [],
   "source": [
    "xgb_classifier = XGBClassifier(\n",
    "    base_score=0.5,\n",
    "    booster=\"gbtree\",\n",
    "    colsample_bylevel=1,\n",
    "    colsample_bynode=1,\n",
    "    colsample_bytree=1,\n",
    "    gamma=0,\n",
    "    gpu_id=-1,\n",
    "    interaction_constraints=\"\",\n",
    "    learning_rate=1.0,\n",
    "    max_delta_step=0,\n",
    "    max_depth=1,\n",
    "    min_child_weight=2,\n",
    "    monotone_constraints=\"()\",\n",
    "    n_estimators=73,\n",
    "    n_jobs=2,\n",
    "    num_parallel_tree=1,\n",
    "    random_state=33,\n",
    "    reg_alpha=1,\n",
    "    reg_lambda=1.0,\n",
    "    scale_pos_weight=1,\n",
    "    subsample=0.9999999469734357,\n",
    "    tree_method=\"hist\",\n",
    "    validate_parameters=1,\n",
    "    verbosity=0,\n",
    "    nthread=2,\n",
    "    silent=True,\n",
    "    seed=33,\n",
    ")"
   ]
  },
  {
   "cell_type": "markdown",
   "metadata": {
    "slideshow": {
     "slide_type": "skip"
    }
   },
   "source": [
    "Pipeline."
   ]
  },
  {
   "cell_type": "code",
   "execution_count": 140,
   "metadata": {
    "pycharm": {
     "is_executing": true,
     "name": "#%%\n"
    },
    "slideshow": {
     "slide_type": "subslide"
    }
   },
   "outputs": [],
   "source": [
    "pipeline = make_pipeline(\n",
    "    union, numpy_permute_array, ta2, fs1_0, tam, fs1_1, xgb_classifier\n",
    ")"
   ]
  },
  {
   "cell_type": "markdown",
   "metadata": {
    "slideshow": {
     "slide_type": "skip"
    }
   },
   "source": [
    "<a id=\"train\"></a>\n",
    "## Train pipeline model\n"
   ]
  },
  {
   "cell_type": "markdown",
   "metadata": {
    "slideshow": {
     "slide_type": "subslide"
    }
   },
   "source": [
    "### Define scorer from the optimization metric\n",
    "This cell constructs the cell scorer based on the experiment metadata."
   ]
  },
  {
   "cell_type": "code",
   "execution_count": 141,
   "metadata": {
    "pycharm": {
     "is_executing": true
    },
    "slideshow": {
     "slide_type": "fragment"
    }
   },
   "outputs": [],
   "source": [
    "from sklearn.metrics import get_scorer\n",
    "\n",
    "scorer = get_scorer(experiment_metadata['scoring'])"
   ]
  },
  {
   "cell_type": "markdown",
   "metadata": {
    "pycharm": {
     "name": "#%% md\n"
    },
    "slideshow": {
     "slide_type": "fragment"
    }
   },
   "source": [
    "<a id=\"test_model\"></a>\n",
    "### Fit pipeline model\n",
    "In this cell, the pipeline is fitted."
   ]
  },
  {
   "cell_type": "code",
   "execution_count": null,
   "metadata": {
    "execution": {
     "iopub.execute_input": "2020-10-12T14:01:19.291734Z",
     "iopub.status.busy": "2020-10-12T14:01:19.244735Z",
     "iopub.status.idle": "2020-10-12T14:01:19.338461Z",
     "shell.execute_reply": "2020-10-12T14:01:19.338958Z"
    },
    "pycharm": {
     "is_executing": true,
     "name": "#%%\n"
    },
    "scrolled": true,
    "slideshow": {
     "slide_type": "fragment"
    }
   },
   "outputs": [],
   "source": [
    "pipeline.fit(train_X,train_y)"
   ]
  },
  {
   "cell_type": "markdown",
   "metadata": {
    "slideshow": {
     "slide_type": "fragment"
    }
   },
   "source": [
    "<a id=\"test_model\"></a>\n",
    "## Test pipeline model"
   ]
  },
  {
   "cell_type": "markdown",
   "metadata": {
    "slideshow": {
     "slide_type": "skip"
    }
   },
   "source": [
    "Score the fitted pipeline with the generated scorer using the holdout dataset."
   ]
  },
  {
   "cell_type": "code",
   "execution_count": 143,
   "metadata": {
    "execution": {
     "iopub.execute_input": "2020-10-12T14:02:03.910267Z",
     "iopub.status.busy": "2020-10-12T14:02:03.909710Z",
     "iopub.status.idle": "2020-10-12T14:02:03.914154Z",
     "shell.execute_reply": "2020-10-12T14:02:03.914727Z"
    },
    "pycharm": {
     "is_executing": true,
     "name": "#%%\n"
    },
    "slideshow": {
     "slide_type": "fragment"
    }
   },
   "outputs": [
    {
     "name": "stdout",
     "output_type": "stream",
     "text": [
      "0.7735470941883767\n"
     ]
    }
   ],
   "source": [
    "score = scorer(pipeline, test_X, test_y)\n",
    "print(score)"
   ]
  },
  {
   "cell_type": "markdown",
   "metadata": {
    "slideshow": {
     "slide_type": "slide"
    }
   },
   "source": [
    "<div align=\"center\">\n",
    "    <h2>First improvements</h2>\n",
    "</div>\n",
    "\n",
    "1. Confusion matrix for first model\n",
    "2. GridSearch\n",
    "3. Feature Selector"
   ]
  },
  {
   "cell_type": "code",
   "execution_count": 144,
   "metadata": {
    "slideshow": {
     "slide_type": "subslide"
    }
   },
   "outputs": [
    {
     "data": {
      "image/png": "[encoded data removed]",
      "text/plain": [
       "<Figure size 432x288 with 2 Axes>"
      ]
     },
     "metadata": {
      "needs_background": "light"
     },
     "output_type": "display_data"
    },
    {
     "name": "stdout",
     "output_type": "stream",
     "text": [
      "Percentage of correctly predicted Risk label: 58.08383233532935\n",
      "Percentage of correctly predicted No Risk label: 87.04819277108435\n"
     ]
    }
   ],
   "source": [
    "#imports for creating confusion matrix\n",
    "import matplotlib.pyplot as plt\n",
    "from sklearn.metrics import plot_confusion_matrix\n",
    "from sklearn.metrics import confusion_matrix\n",
    "\n",
    "plot_confusion_matrix(pipeline, test_X, test_y, cmap=plt.cm.Blues)\n",
    "plt.show()\n",
    "\n",
    "cm = confusion_matrix(test_y, pipeline.predict(test_X), labels = ['No Risk', 'Risk'])\n",
    "print(\"Percentage of correctly predicted Risk label:\", (cm[1][1] / (cm[1][0] + cm[1][1])) * 100)\n",
    "print(\"Percentage of correctly predicted No Risk label:\", (cm[0][0] / (cm[0][0] + cm[0][1])) * 100)"
   ]
  },
  {
   "cell_type": "code",
   "execution_count": 65,
   "metadata": {
    "slideshow": {
     "slide_type": "subslide"
    }
   },
   "outputs": [],
   "source": [
    "#import for Pipeline constructor\n",
    "from sklearn.pipeline import Pipeline\n",
    "\n",
    "#import for feature seleciton\n",
    "from sklearn.feature_selection import SelectFromModel\n",
    "\n",
    "#import for GridSearch\n",
    "from sklearn.model_selection import GridSearchCV\n",
    "\n",
    "param_grid = {\n",
    "    'model__max_depth': [1, 2, 3, 4, 5, 7, 10],\n",
    "    'model__learning_rate': [1.0, 2.0, 3.0, 4.0, 5.0, 6.0],\n",
    "    'model__n_estimators': [40, 50, 60, 70],\n",
    "    'model__min_child_weight': [1, 5, 7, 10],\n",
    "    'model__gamma': [0, 1, 2, 3],\n",
    "    'model__subsample': [0.4, 0.8, 1.0],\n",
    "    'model__colsample_bytree': [0.6, 0.8, 1.0]  \n",
    "}\n",
    "\n",
    "grid = GridSearchCV(pipeline, param_grid, cv=5, n_jobs=1, scoring='accuracy')\n",
    "grid.fit(train_X, train_y)\n",
    "print(f\"Best parameters: {grid.best_params_}\")"
   ]
  },
  {
   "cell_type": "markdown",
   "metadata": {
    "slideshow": {
     "slide_type": "subslide"
    }
   },
   "source": [
    "Redefining hyperparameters received from the GridSearch function in the XGB model."
   ]
  },
  {
   "cell_type": "code",
   "execution_count": 145,
   "metadata": {
    "slideshow": {
     "slide_type": "fragment"
    }
   },
   "outputs": [],
   "source": [
    "xgb_classifier = XGBClassifier(\n",
    "    base_score=0.5,\n",
    "    booster=\"gbtree\",\n",
    "    colsample_bylevel=1,\n",
    "    colsample_bynode=1,\n",
    "    colsample_bytree=1.0,\n",
    "    gamma=0,\n",
    "    gpu_id=-1,\n",
    "    interaction_constraints=\"\",\n",
    "    learning_rate=1.0,\n",
    "    max_delta_step=0,\n",
    "    max_depth=1,\n",
    "    min_child_weight=1,\n",
    "    monotone_constraints=\"()\",\n",
    "    n_estimators=50,\n",
    "    n_jobs=2,\n",
    "    num_parallel_tree=1,\n",
    "    random_state=33,\n",
    "    reg_alpha=1,\n",
    "    reg_lambda=1.0,\n",
    "    scale_pos_weight=1,\n",
    "    subsample=0.8,\n",
    "    tree_method=\"hist\",\n",
    "    validate_parameters=1,\n",
    "    verbosity=0,\n",
    "    nthread=2,\n",
    "    silent=True,\n",
    "    seed=33,\n",
    ")"
   ]
  },
  {
   "cell_type": "code",
   "execution_count": null,
   "metadata": {
    "slideshow": {
     "slide_type": "skip"
    }
   },
   "outputs": [],
   "source": [
    "second_pipeline = Pipeline([\n",
    "    ('union', union), \n",
    "    ('numpy_permute_array', numpy_permute_array), \n",
    "    ('ta2', ta2),\n",
    "    ('fs1_0', fs1_0),\n",
    "    ('tam', tam),\n",
    "    ('fs1_1', fs1_1),\n",
    "    ('model', xgb_classifier),\n",
    "])\n",
    "second_pipeline.fit(train_X,train_y)"
   ]
  },
  {
   "cell_type": "markdown",
   "metadata": {
    "slideshow": {
     "slide_type": "subslide"
    }
   },
   "source": [
    "Score and confusion matrix after hyperparameter optimatization."
   ]
  },
  {
   "cell_type": "code",
   "execution_count": 153,
   "metadata": {
    "slideshow": {
     "slide_type": "fragment"
    }
   },
   "outputs": [
    {
     "name": "stdout",
     "output_type": "stream",
     "text": [
      "0.779559118236473\n"
     ]
    },
    {
     "data": {
      "image/png": "[encoded data removed]",
      "text/plain": [
       "<Figure size 432x288 with 2 Axes>"
      ]
     },
     "metadata": {
      "needs_background": "light"
     },
     "output_type": "display_data"
    },
    {
     "name": "stdout",
     "output_type": "stream",
     "text": [
      "Percentage of correctly predicted Risk label: 59.2814371257485\n",
      "Percentage of correctly predicted No Risk label: 87.34939759036145\n"
     ]
    }
   ],
   "source": [
    "second_score = scorer(second_pipeline, test_X, test_y)\n",
    "print(second_score)\n",
    "\n",
    "plot_confusion_matrix(second_pipeline, test_X, test_y, cmap=plt.cm.Blues)\n",
    "plt.show()\n",
    "\n",
    "cm = confusion_matrix(test_y, second_pipeline.predict(test_X), labels = ['No Risk', 'Risk'])\n",
    "print(\"Percentage of correctly predicted Risk label:\", (cm[1][1] / (cm[1][0] + cm[1][1])) * 100)\n",
    "print(\"Percentage of correctly predicted No Risk label:\", (cm[0][0] / (cm[0][0] + cm[0][1])) * 100)"
   ]
  },
  {
   "cell_type": "markdown",
   "metadata": {
    "slideshow": {
     "slide_type": "subslide"
    }
   },
   "source": [
    "Feature selector."
   ]
  },
  {
   "cell_type": "code",
   "execution_count": null,
   "metadata": {
    "slideshow": {
     "slide_type": "fragment"
    }
   },
   "outputs": [],
   "source": [
    "selection = SelectFromModel(xgb_classifier)\n",
    "third_pipeline = Pipeline([\n",
    "    ('union', union), \n",
    "    ('numpy_permute_array', numpy_permute_array), \n",
    "    ('ta2', ta2),\n",
    "    ('fs1_0', fs1_0),\n",
    "    ('tam', tam),\n",
    "    ('fs1_1', fs1_1),\n",
    "    ('selection', selection),\n",
    "    ('model', xgb_classifier),\n",
    "])\n",
    "third_pipeline.fit(train_X,train_y)"
   ]
  },
  {
   "cell_type": "markdown",
   "metadata": {
    "slideshow": {
     "slide_type": "subslide"
    }
   },
   "source": [
    "Score and confusion matrix after hyperparameter optimatization and feature selection."
   ]
  },
  {
   "cell_type": "code",
   "execution_count": 155,
   "metadata": {
    "slideshow": {
     "slide_type": "fragment"
    }
   },
   "outputs": [
    {
     "name": "stdout",
     "output_type": "stream",
     "text": [
      "0.7915831663326653\n"
     ]
    },
    {
     "data": {
      "image/png": "[encoded data removed]",
      "text/plain": [
       "<Figure size 432x288 with 2 Axes>"
      ]
     },
     "metadata": {
      "needs_background": "light"
     },
     "output_type": "display_data"
    },
    {
     "name": "stdout",
     "output_type": "stream",
     "text": [
      "Percentage of correctly predicted Risk label: 59.88023952095808\n",
      "Percentage of correctly predicted No Risk label: 88.85542168674698\n"
     ]
    }
   ],
   "source": [
    "third_score = scorer(third_pipeline, test_X, test_y)\n",
    "print(third_score)\n",
    "\n",
    "plot_confusion_matrix(third_pipeline, test_X, test_y, cmap=plt.cm.Blues)\n",
    "plt.show()\n",
    "\n",
    "cm = confusion_matrix(test_y, third_pipeline.predict(test_X), labels = ['No Risk', 'Risk'])\n",
    "print(\"Percentage of correctly predicted Risk label:\", (cm[1][1] / (cm[1][0] + cm[1][1])) * 100)\n",
    "print(\"Percentage of correctly predicted No Risk label:\", (cm[0][0] / (cm[0][0] + cm[0][1])) * 100)"
   ]
  },
  {
   "cell_type": "markdown",
   "metadata": {
    "slideshow": {
     "slide_type": "subslide"
    }
   },
   "source": [
    "Score comparison."
   ]
  },
  {
   "cell_type": "code",
   "execution_count": null,
   "metadata": {
    "scrolled": false,
    "slideshow": {
     "slide_type": "fragment"
    }
   },
   "outputs": [],
   "source": [
    "#import plotly objects\n",
    "import plotly.graph_objects as go\n",
    "\n",
    "chart = go.Figure([go.Bar(x = ['First score', 'Second score', 'Third score'], \n",
    "                          y=[score, second_score, third_score])])\n",
    "\n",
    "chart.update_xaxes(\n",
    "    showgrid=True,\n",
    "    ticks=\"outside\",\n",
    "    tickson=\"boundaries\",\n",
    "    ticklen=10\n",
    ")\n",
    "\n",
    "chart.show()"
   ]
  },
  {
   "cell_type": "markdown",
   "metadata": {
    "slideshow": {
     "slide_type": "subslide"
    }
   },
   "source": [
    "![image](https://github.com/halskiszymon/IBM-Internship/blob/main/img/chart1.JPG?raw=true)"
   ]
  },
  {
   "cell_type": "markdown",
   "metadata": {
    "slideshow": {
     "slide_type": "slide"
    }
   },
   "source": [
    "<div align=\"center\">\n",
    "    <h2>Next steps</h2>\n",
    "    <h3 style=\"margin-top: 1px;\">Metrics and risk calculation</h3>\n",
    "</div>\n",
    "\n",
    "1. Why we are using the metrics?\n",
    "2. What are the metrics?\n",
    "3. Three metrics: f1 score, precision score and recall score\n",
    "4. Troubleshooting for the calculation crashings\n",
    "4. Why the metric didn't work for us"
   ]
  },
  {
   "cell_type": "code",
   "execution_count": 72,
   "metadata": {
    "slideshow": {
     "slide_type": "skip"
    }
   },
   "outputs": [],
   "source": [
    "#imports for scorers\n",
    "from sklearn.metrics import make_scorer\n",
    "from sklearn.metrics import accuracy_score\n",
    "from sklearn.metrics import f1_score\n",
    "from sklearn.metrics import precision_score\n",
    "from sklearn.metrics import recall_score"
   ]
  },
  {
   "cell_type": "markdown",
   "metadata": {
    "slideshow": {
     "slide_type": "subslide"
    }
   },
   "source": [
    "<img src=\"https://github.com/halskiszymon/IBM-Internship/blob/main/img/pr1e.png?raw=true\" style=\"width:600px;\"/>"
   ]
  },
  {
   "cell_type": "markdown",
   "metadata": {
    "slideshow": {
     "slide_type": "subslide"
    }
   },
   "source": [
    "<img src=\"https://github.com/halskiszymon/IBM-Internship/blob/main/img/pr2.png?raw=true\" style=\"width:600px;\"/>"
   ]
  },
  {
   "cell_type": "markdown",
   "metadata": {
    "slideshow": {
     "slide_type": "subslide"
    }
   },
   "source": [
    "## Define scoring method\n",
    "Choose scoring strategy."
   ]
  },
  {
   "cell_type": "code",
   "execution_count": 73,
   "metadata": {
    "slideshow": {
     "slide_type": "fragment"
    }
   },
   "outputs": [],
   "source": [
    "#Values: accuracy_score, f1_score, precision_score, recall_score\n",
    "#Default: accuracy_score\n",
    "scoring_method = f1_score   "
   ]
  },
  {
   "cell_type": "code",
   "execution_count": 91,
   "metadata": {
    "slideshow": {
     "slide_type": "subslide"
    }
   },
   "outputs": [],
   "source": [
    "def print_score(method, model = pipeline):\n",
    "    return {\n",
    "        accuracy_score: accuracy_score(test_y, model.predict(test_X)),\n",
    "        f1_score: f1_score(test_y, model.predict(test_X), average='micro', labels=['Risk']),\n",
    "        precision_score: precision_score(test_y, model.predict(test_X), average='micro', labels=['Risk']),\n",
    "        recall_score: recall_score(test_y, model.predict(test_X), average='micro', labels=['Risk']),\n",
    "    }[method]"
   ]
  },
  {
   "cell_type": "code",
   "execution_count": 92,
   "metadata": {
    "slideshow": {
     "slide_type": "fragment"
    }
   },
   "outputs": [
    {
     "name": "stdout",
     "output_type": "stream",
     "text": [
      "0.6578947368421053\n"
     ]
    }
   ],
   "source": [
    "#f1 score\n",
    "scoring_method = f1_score\n",
    "score = print_score(scoring_method, third_pipeline)\n",
    "print(score)"
   ]
  },
  {
   "cell_type": "code",
   "execution_count": 94,
   "metadata": {
    "slideshow": {
     "slide_type": "fragment"
    }
   },
   "outputs": [
    {
     "name": "stdout",
     "output_type": "stream",
     "text": [
      "0.7299270072992701\n"
     ]
    }
   ],
   "source": [
    "#precision score\n",
    "scoring_method = precision_score\n",
    "second_score = print_score(scoring_method, third_pipeline)\n",
    "print(second_score)"
   ]
  },
  {
   "cell_type": "code",
   "execution_count": 95,
   "metadata": {
    "slideshow": {
     "slide_type": "fragment"
    }
   },
   "outputs": [
    {
     "name": "stdout",
     "output_type": "stream",
     "text": [
      "0.5988023952095808\n"
     ]
    }
   ],
   "source": [
    "#recall score\n",
    "scoring_method = recall_score\n",
    "third_score = print_score(scoring_method, third_pipeline)\n",
    "print(third_score)"
   ]
  },
  {
   "cell_type": "markdown",
   "metadata": {
    "slideshow": {
     "slide_type": "subslide"
    }
   },
   "source": [
    "### GridSearch for each metric\n"
   ]
  },
  {
   "cell_type": "code",
   "execution_count": 78,
   "metadata": {
    "slideshow": {
     "slide_type": "fragment"
    }
   },
   "outputs": [],
   "source": [
    "param_grid = {\n",
    "    'model__max_depth': [1, 2, 3, 4, 5, 7, 10],\n",
    "    'model__learning_rate': [1.0, 2.0, 3.0, 4.0, 5.0, 6.0],\n",
    "    'model__n_estimators': [40, 50, 60, 70],\n",
    "    'model__min_child_weight': [1, 5, 7, 10],\n",
    "    'model__gamma': [0, 1, 2, 3],\n",
    "    'model__subsample': [0.4, 0.8, 1.0],\n",
    "    'model__colsample_bytree': [0.6, 0.8, 1.0]  \n",
    "}\n",
    "\n",
    "grid = GridSearchCV(pipeline, param_grid, n_jobs=-1, cv=5, \n",
    "      scoring=make_scorer(scoring_method, average='micro', pos_label='Risk', labels=['Risk']))\n",
    "\n",
    "grid.fit(train_X, train_y)\n",
    "print(f\"Best parameters: {grid.best_params_}\")"
   ]
  },
  {
   "cell_type": "markdown",
   "metadata": {
    "slideshow": {
     "slide_type": "subslide"
    }
   },
   "source": [
    "![image](https://github.com/halskiszymon/IBM-Internship/blob/main/img/notebooks.JPG?raw=true)\n",
    "<div align=\"center\">\n",
    "    Notebooks.\n",
    "</div>"
   ]
  },
  {
   "cell_type": "markdown",
   "metadata": {
    "slideshow": {
     "slide_type": "subslide"
    }
   },
   "source": [
    "![image](https://github.com/halskiszymon/IBM-Internship/blob/main/img/Anaconda_Logo.png?raw=true)\n",
    "\n",
    "<div align=\"center\">\n",
    "    Anaconda logo.\n",
    "</div>"
   ]
  },
  {
   "cell_type": "markdown",
   "metadata": {
    "slideshow": {
     "slide_type": "subslide"
    }
   },
   "source": [
    "![image](https://github.com/halskiszymon/IBM-Internship/blob/main/img/anaconda_prompt.JPG?raw=true)\n",
    "<div align=\"center\">\n",
    "    Anaconda prompt.\n",
    "</div>"
   ]
  },
  {
   "cell_type": "markdown",
   "metadata": {
    "slideshow": {
     "slide_type": "subslide"
    }
   },
   "source": [
    "![image](https://github.com/halskiszymon/IBM-Internship/blob/main/img/conda_newenv.JPG?raw=true)\n",
    "<div align=\"center\">\n",
    "    New Anaconda enviroment.\n",
    "</div>"
   ]
  },
  {
   "cell_type": "markdown",
   "metadata": {
    "slideshow": {
     "slide_type": "subslide"
    }
   },
   "source": [
    "![image](https://github.com/halskiszymon/IBM-Internship/blob/main/img/conda_env37.JPG?raw=true)\n",
    "<div align=\"center\">\n",
    "    Activate enviroment.\n",
    "</div>"
   ]
  },
  {
   "cell_type": "markdown",
   "metadata": {
    "slideshow": {
     "slide_type": "subslide"
    }
   },
   "source": [
    "![image](https://github.com/halskiszymon/IBM-Internship/blob/main/img/jupyter_notebook_server.JPG?raw=true)\n",
    "<div align=\"center\">\n",
    "    Jupyter notebook server.\n",
    "</div>"
   ]
  },
  {
   "cell_type": "markdown",
   "metadata": {
    "slideshow": {
     "slide_type": "subslide"
    }
   },
   "source": [
    "### Calculation crashes\n",
    "TerminatedWorkerError: A worker process managed by the executor was unexpectedly terminated. This could be caused by a segmentation fault while calling the function or by an excessive memory usage causing the Operating System to kill the worker.\n"
   ]
  },
  {
   "cell_type": "markdown",
   "metadata": {
    "slideshow": {
     "slide_type": "subslide"
    }
   },
   "source": [
    "**First solution:** Run notebook as python script.\n",
    "\n",
    "![image](https://github.com/halskiszymon/IBM-Internship/blob/main/img/conda_run_script.JPG?raw=true)\n",
    "<div align=\"center\">\n",
    "    (no worries about warnings)\n",
    "</div>"
   ]
  },
  {
   "cell_type": "markdown",
   "metadata": {
    "slideshow": {
     "slide_type": "subslide"
    }
   },
   "source": [
    "**Second solution:** Modify gridserach function and make checkpoints."
   ]
  },
  {
   "cell_type": "code",
   "execution_count": 79,
   "metadata": {
    "slideshow": {
     "slide_type": "fragment"
    }
   },
   "outputs": [],
   "source": [
    "grid = GridSearchCV(pipeline, param_grid, n_jobs=1, verbose=10, cv=5, \n",
    "        scoring=make_scorer(scoring_method, average='micro', pos_label='Risk', labels=['Risk']))\n",
    "\n",
    "grid.fit(train_X, train_y)\n",
    "print(f\"Best parameters: {grid.best_params_}\")"
   ]
  },
  {
   "cell_type": "markdown",
   "metadata": {
    "slideshow": {
     "slide_type": "subslide"
    }
   },
   "source": [
    "![image](https://github.com/halskiszymon/IBM-Internship/blob/main/img/txt%20file.JPG?raw=true)\n",
    "<div align=\"center\">\n",
    "    .txt file.\n",
    "</div>"
   ]
  },
  {
   "cell_type": "markdown",
   "metadata": {
    "slideshow": {
     "slide_type": "subslide"
    }
   },
   "source": [
    "![image](https://github.com/halskiszymon/IBM-Internship/blob/main/img/fetch_script.JPG?raw=true)\n",
    "<div align=\"center\">\n",
    "    Python script to fetch best score from txt file.\n",
    "</div>"
   ]
  },
  {
   "cell_type": "markdown",
   "metadata": {
    "slideshow": {
     "slide_type": "subslide"
    }
   },
   "source": [
    "Final results:\n",
    "\n",
    "#### f1 score\n",
    "```\n",
    "Best parameters: {'model__colsample_bytree': 0.8, 'model__gamma': 2, 'model__learning_rate': 1.0, 'model__max_depth': 1, 'model__min_child_weight': 1, 'model__n_estimators': 40, 'model__subsample': 1.0}\n",
    "```\n",
    "\n",
    "#### precision score\n",
    "```\n",
    "Best parameters: {'model__colsample_bytree': 1.0, 'model__gamma': 3, 'model__learning_rate': 2.0, 'model__max_depth': 10, 'model__min_child_weight': 5, 'model__n_estimators': 60, 'model__subsample': 1.0}\n",
    "```\n",
    "\n",
    "#### recall score\n",
    "```\n",
    "Best parameters: {'model__colsample_bytree': 0.6, 'model__gamma': 2, 'model__learning_rate': 2.0, 'model__max_depth': 2, 'model__min_child_weight': 1, 'model__n_estimators': 40, 'model__subsample': 0.8}\n",
    "```"
   ]
  },
  {
   "cell_type": "markdown",
   "metadata": {
    "slideshow": {
     "slide_type": "subslide"
    }
   },
   "source": [
    "After updating them in model our scores..."
   ]
  },
  {
   "cell_type": "code",
   "execution_count": 96,
   "metadata": {
    "slideshow": {
     "slide_type": "subslide"
    }
   },
   "outputs": [],
   "source": [
    "scoring_method = f1_score\n",
    "\n",
    "xgb_classifier = XGBClassifier(\n",
    "    base_score=0.5,\n",
    "    booster=\"gbtree\",\n",
    "    colsample_bylevel=1,\n",
    "    colsample_bynode=1,\n",
    "    colsample_bytree=0.8,\n",
    "    gamma=2,\n",
    "    gpu_id=-1,\n",
    "    interaction_constraints=\"\",\n",
    "    learning_rate=1.0,\n",
    "    max_delta_step=0,\n",
    "    max_depth=1,\n",
    "    min_child_weight=1,\n",
    "    monotone_constraints=\"()\",\n",
    "    n_estimators=40,\n",
    "    n_jobs=2,\n",
    "    num_parallel_tree=1,\n",
    "    random_state=33,\n",
    "    reg_alpha=1,\n",
    "    reg_lambda=1.0,\n",
    "    scale_pos_weight=1,\n",
    "    subsample=1.0,\n",
    "    tree_method=\"hist\",\n",
    "    validate_parameters=1,\n",
    "    verbosity=0,\n",
    "    nthread=2,\n",
    "    silent=True,\n",
    "    seed=33,\n",
    ")"
   ]
  },
  {
   "cell_type": "code",
   "execution_count": 97,
   "metadata": {
    "slideshow": {
     "slide_type": "subslide"
    }
   },
   "outputs": [],
   "source": [
    "#f1 score\n",
    "selection = SelectFromModel(xgb_classifier)\n",
    "fourth_pipeline = Pipeline([\n",
    "    ('union', union), \n",
    "    ('numpy_permute_array', numpy_permute_array), \n",
    "    ('ta2', ta2),\n",
    "    ('fs1_0', fs1_0),\n",
    "    ('tam', tam),\n",
    "    ('fs1_1', fs1_1),\n",
    "    ('selection', selection),\n",
    "    ('model', xgb_classifier),\n",
    "])\n",
    "fourth_pipeline.fit(train_X,train_y)\n",
    "fourth_score = print_score(scoring_method, fourth_pipeline)"
   ]
  },
  {
   "cell_type": "code",
   "execution_count": 98,
   "metadata": {
    "slideshow": {
     "slide_type": "subslide"
    }
   },
   "outputs": [],
   "source": [
    "scoring_method = precision_score\n",
    "\n",
    "xgb_classifier = XGBClassifier(\n",
    "    base_score=0.5,\n",
    "    booster=\"gbtree\",\n",
    "    colsample_bylevel=1,\n",
    "    colsample_bynode=1,\n",
    "    colsample_bytree=1.0,\n",
    "    gamma=3,\n",
    "    gpu_id=-1,\n",
    "    interaction_constraints=\"\",\n",
    "    learning_rate=2.0,\n",
    "    max_delta_step=0,\n",
    "    max_depth=10,\n",
    "    min_child_weight=5,\n",
    "    monotone_constraints=\"()\",\n",
    "    n_estimators=60,\n",
    "    n_jobs=2,\n",
    "    num_parallel_tree=1,\n",
    "    random_state=33,\n",
    "    reg_alpha=1,\n",
    "    reg_lambda=1.0,\n",
    "    scale_pos_weight=1,\n",
    "    subsample=1.0,\n",
    "    tree_method=\"hist\",\n",
    "    validate_parameters=1,\n",
    "    verbosity=0,\n",
    "    nthread=2,\n",
    "    silent=True,\n",
    "    seed=33,\n",
    ")"
   ]
  },
  {
   "cell_type": "code",
   "execution_count": 99,
   "metadata": {
    "slideshow": {
     "slide_type": "subslide"
    }
   },
   "outputs": [],
   "source": [
    "#precision score\n",
    "selection = SelectFromModel(xgb_classifier)\n",
    "fifth_pipeline = Pipeline([\n",
    "    ('union', union), \n",
    "    ('numpy_permute_array', numpy_permute_array), \n",
    "    ('ta2', ta2),\n",
    "    ('fs1_0', fs1_0),\n",
    "    ('tam', tam),\n",
    "    ('fs1_1', fs1_1),\n",
    "    ('selection', selection),\n",
    "    ('model', xgb_classifier),\n",
    "])\n",
    "fifth_pipeline.fit(train_X,train_y)\n",
    "fifth_score = print_score(scoring_method, fifth_pipeline)"
   ]
  },
  {
   "cell_type": "code",
   "execution_count": 100,
   "metadata": {
    "slideshow": {
     "slide_type": "subslide"
    }
   },
   "outputs": [],
   "source": [
    "scoring_method = recall_score\n",
    "\n",
    "xgb_classifier = XGBClassifier(\n",
    "    base_score=0.5,\n",
    "    booster=\"gbtree\",\n",
    "    colsample_bylevel=1,\n",
    "    colsample_bynode=1,\n",
    "    colsample_bytree=0.6,\n",
    "    gamma=2,\n",
    "    gpu_id=-1,\n",
    "    interaction_constraints=\"\",\n",
    "    learning_rate=2.0,\n",
    "    max_delta_step=0,\n",
    "    max_depth=2,\n",
    "    min_child_weight=1,\n",
    "    monotone_constraints=\"()\",\n",
    "    n_estimators=40,\n",
    "    n_jobs=2,\n",
    "    num_parallel_tree=1,\n",
    "    random_state=33,\n",
    "    reg_alpha=1,\n",
    "    reg_lambda=1.0,\n",
    "    scale_pos_weight=1,\n",
    "    subsample=0.8,\n",
    "    tree_method=\"hist\",\n",
    "    validate_parameters=1,\n",
    "    verbosity=0,\n",
    "    nthread=2,\n",
    "    silent=True,\n",
    "    seed=33,\n",
    ")"
   ]
  },
  {
   "cell_type": "code",
   "execution_count": 101,
   "metadata": {
    "slideshow": {
     "slide_type": "subslide"
    }
   },
   "outputs": [],
   "source": [
    "#precision score\n",
    "selection = SelectFromModel(xgb_classifier)\n",
    "sixth_pipeline = Pipeline([\n",
    "    ('union', union), \n",
    "    ('numpy_permute_array', numpy_permute_array), \n",
    "    ('ta2', ta2),\n",
    "    ('fs1_0', fs1_0),\n",
    "    ('tam', tam),\n",
    "    ('fs1_1', fs1_1),\n",
    "    ('selection', selection),\n",
    "    ('model', xgb_classifier),\n",
    "])\n",
    "sixth_pipeline.fit(train_X,train_y)\n",
    "sixth_score = print_score(scoring_method, sixth_pipeline)"
   ]
  },
  {
   "cell_type": "code",
   "execution_count": null,
   "metadata": {
    "slideshow": {
     "slide_type": "subslide"
    }
   },
   "outputs": [],
   "source": [
    "fig = go.Figure(data=[\n",
    "    go.Bar(name='Default score', x=['f1 score', 'precision score', 'recall score'], \n",
    "           y=[score, second_score, third_score]),\n",
    "    go.Bar(name='Score after optimatization', x=['f1 score', 'precision score', 'recall score'], \n",
    "           y=[fourth_score, fifth_score, sixth_score])\n",
    "])\n",
    "\n",
    "fig.update_layout(barmode='group')\n",
    "fig.show()"
   ]
  },
  {
   "cell_type": "markdown",
   "metadata": {},
   "source": [
    "![image](https://github.com/halskiszymon/IBM-Internship/blob/main/img/chart2.JPG?raw=true)"
   ]
  },
  {
   "cell_type": "code",
   "execution_count": 111,
   "metadata": {
    "slideshow": {
     "slide_type": "subslide"
    }
   },
   "outputs": [
    {
     "name": "stdout",
     "output_type": "stream",
     "text": [
      "f1 score after \"optimatization\"\n"
     ]
    },
    {
     "data": {
      "image/png": "[encoded data removed]",
      "text/plain": [
       "<Figure size 432x288 with 2 Axes>"
      ]
     },
     "metadata": {
      "needs_background": "light"
     },
     "output_type": "display_data"
    }
   ],
   "source": [
    "print('f1 score after \"optimatization\"')\n",
    "plot_confusion_matrix(fourth_pipeline, test_X, test_y, cmap=plt.cm.Blues)\n",
    "plt.show()"
   ]
  },
  {
   "cell_type": "code",
   "execution_count": 110,
   "metadata": {
    "slideshow": {
     "slide_type": "subslide"
    }
   },
   "outputs": [
    {
     "name": "stdout",
     "output_type": "stream",
     "text": [
      "precision score after \"optimatization\"\n"
     ]
    },
    {
     "data": {
      "image/png": "[encoded data removed]",
      "text/plain": [
       "<Figure size 432x288 with 2 Axes>"
      ]
     },
     "metadata": {
      "needs_background": "light"
     },
     "output_type": "display_data"
    }
   ],
   "source": [
    "print('precision score after \"optimatization\"')\n",
    "plot_confusion_matrix(fifth_pipeline, test_X, test_y, cmap=plt.cm.Blues)\n",
    "plt.show()"
   ]
  },
  {
   "cell_type": "code",
   "execution_count": 109,
   "metadata": {
    "slideshow": {
     "slide_type": "subslide"
    }
   },
   "outputs": [
    {
     "name": "stdout",
     "output_type": "stream",
     "text": [
      "recall score after \"optimatization\"\n"
     ]
    },
    {
     "data": {
      "image/png": "[encoded data removed]",
      "text/plain": [
       "<Figure size 432x288 with 2 Axes>"
      ]
     },
     "metadata": {
      "needs_background": "light"
     },
     "output_type": "display_data"
    }
   ],
   "source": [
    "print('recall score after \"optimatization\"')\n",
    "plot_confusion_matrix(sixth_pipeline, test_X, test_y, cmap=plt.cm.Blues)\n",
    "plt.show()"
   ]
  },
  {
   "cell_type": "markdown",
   "metadata": {
    "slideshow": {
     "slide_type": "subslide"
    }
   },
   "source": [
    "<div align=\"center\">\n",
    "    <h1>We did it.</h1>\n",
    "    <h2>by 2%.</h2>\n",
    "</div>"
   ]
  },
  {
   "cell_type": "markdown",
   "metadata": {
    "slideshow": {
     "slide_type": "subslide"
    }
   },
   "source": [
    "## Conclusion\n",
    "### Skills we learned\n",
    "1. A lot of Python knowledge\n",
    "2. IBM Cloud structure\n",
    "3. IBM Watson Studio\n",
    "4. How machine learning works\n",
    "5. Random Forest, LGBM and XGB classifiers\n",
    "6. Scikit-learn package\n",
    "7. Data preprocessing for machine learning\n",
    "8. Scoring metrics\n",
    "9. Troubleshooting\n",
    "10. Data visualization\n",
    "11. Plotly package\n",
    "12. Anaconda software\n",
    "13. Jupyter Notebooks & Server\n",
    "14. Running python localy"
   ]
  },
  {
   "cell_type": "markdown",
   "metadata": {
    "slideshow": {
     "slide_type": "subslide"
    }
   },
   "source": [
    "![image](https://github.com/halskiszymon/IBM-Internship/blob/main/img/ending.jpg?raw=true)\n",
    "<div align=\"center\">\n",
    "    This is not the end of our journey. Thank you from the mountains.\n",
    "</div>"
   ]
  }
 ],
 "metadata": {
  "celltoolbar": "Slideshow",
  "kernelspec": {
   "display_name": "Python 3",
   "language": "python",
   "name": "python3"
  },
  "language_info": {
   "codemirror_mode": {
    "name": "ipython",
    "version": 3
   },
   "file_extension": ".py",
   "mimetype": "text/x-python",
   "name": "python",
   "nbconvert_exporter": "python",
   "pygments_lexer": "ipython3",
   "version": "3.7.10"
  }
 },
 "nbformat": 4,
 "nbformat_minor": 2
}
